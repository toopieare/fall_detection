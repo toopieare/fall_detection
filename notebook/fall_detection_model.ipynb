{
 "cells": [
  {
   "cell_type": "markdown",
   "id": "4a84006f-418a-4174-8ea8-4cdedbfae426",
   "metadata": {},
   "source": [
    "#### This notebook train a simple Logistic Regression model on accelerometer data aggregated from X, Y, Z in different windows size.\n"
   ]
  },
  {
   "cell_type": "code",
   "execution_count": 1,
   "id": "2049ee12",
   "metadata": {},
   "outputs": [],
   "source": [
    "import os\n",
    "import pandas as pd\n",
    "import numpy as np\n",
    "from sklearn.linear_model import LogisticRegression"
   ]
  },
  {
   "cell_type": "code",
   "execution_count": 2,
   "id": "e4076781",
   "metadata": {},
   "outputs": [],
   "source": [
    "from collections import Counter\n",
    "def extract_features_from_window(x, y, z, action):\n",
    "    # Compute magnitude\n",
    "    mag = np.sqrt(x**2 + y**2 + z**2)\n",
    "\n",
    "    # Features\n",
    "    mean_mag = np.mean(mag)\n",
    "    std_mag = np.std(mag)\n",
    "    max_mag = np.max(mag)\n",
    "    energy = np.sum(mag**2)\n",
    "    # peaks, _ = find_peaks(mag)\n",
    "    # num_peaks = len(peaks)\n",
    "\n",
    "    ACTION = Counter(action).most_common()[0][0]\n",
    "    return {\n",
    "        \"mean_magnitude\": mean_mag,\n",
    "        \"std_magnitude\": std_mag,\n",
    "        \"max_magnitude\": max_mag,\n",
    "        \"energy\": energy,\n",
    "        \"action\": ACTION\n",
    "        # \"num_peaks\": num_peaks\n",
    "    }"
   ]
  },
  {
   "cell_type": "code",
   "execution_count": 3,
   "id": "b0499c65",
   "metadata": {},
   "outputs": [],
   "source": [
    "def process_csv(df, window_size=20, step_size=5):\n",
    "    features_list = []\n",
    "\n",
    "    for start in range(0, len(df) - window_size + 1, step_size):\n",
    "        window = df.iloc[start:start + window_size]\n",
    "        features = extract_features_from_window(window['X'].values, window['Y'].values, window['Z'].values, window['ACTION'].values)\n",
    "        features_list.append(features)\n",
    "    return pd.DataFrame(features_list)"
   ]
  },
  {
   "cell_type": "code",
   "execution_count": 4,
   "id": "7663caaa",
   "metadata": {},
   "outputs": [],
   "source": [
    "ACTIONS = ['BENDING_DOWN', 'FALLING_BACKWARDS', 'FALLING_FORWARD', 'HAND_WAVING', 'SITTING', 'WALKING']\n",
    "df = []\n",
    "DATA_DIR = '../data'\n",
    "for action in ACTIONS:\n",
    "    no_csv = len(os.listdir(f'{DATA_DIR}/{action}'))\n",
    "    action_df = pd.concat([pd.read_csv(f'{DATA_DIR}/{action}/{action}_{i}.csv') for i in range(1, no_csv + 1, 1)]) \n",
    "    df.append(action_df)\n",
    "df = pd.concat(df)"
   ]
  },
  {
   "cell_type": "code",
   "execution_count": 47,
   "id": "b2fe17ba",
   "metadata": {},
   "outputs": [],
   "source": [
    "df_bending_down = df[df['ACTION'] == 'BENDING_DOWN']\n",
    "df_falling_bacwards = df[df['ACTION'] == 'FALLING_BACKWARDS']\n",
    "df_falling_forward = df[df['ACTION'] == 'FALLING_FORWARD']\n",
    "df_hand_waving = df[df['ACTION'] == 'HAND_WAVING']\n",
    "df_sitting = df[df['ACTION'] == 'SITTING']\n",
    "df_walking = df[df['ACTION'] == 'WALKING']"
   ]
  },
  {
   "cell_type": "markdown",
   "id": "be47c616-94f1-4be5-b64e-6f8f5276e0df",
   "metadata": {},
   "source": [
    "#### In training we overlap window size by 10% to augment the sample count for training."
   ]
  },
  {
   "cell_type": "code",
   "execution_count": 52,
   "id": "2aacd44d",
   "metadata": {},
   "outputs": [],
   "source": [
    "window_size = 40\n",
    "step_size = 40\n",
    "cutoff_value = 300\n",
    "df_bending_down_train = process_csv(df_bending_down.iloc[:-cutoff_value], window_size, step_size)\n",
    "df_falling_bacwards_train = process_csv(df_falling_bacwards.iloc[:-cutoff_value], window_size, step_size)\n",
    "df_falling_forward_train = process_csv(df_falling_forward.iloc[:-cutoff_value], window_size, step_size)\n",
    "df_hand_waving_train = process_csv(df_hand_waving.iloc[:-cutoff_value], window_size, step_size)\n",
    "df_sitting_train = process_csv(df_sitting.iloc[:-cutoff_value], window_size, step_size)\n",
    "df_walking_train = process_csv(df_walking.iloc[:-cutoff_value], window_size, step_size)"
   ]
  },
  {
   "cell_type": "markdown",
   "id": "95cc70ab-785b-4d1d-8a8c-23151299174e",
   "metadata": {},
   "source": [
    "#### In testing we don't set any window overlap."
   ]
  },
  {
   "cell_type": "code",
   "execution_count": 7,
   "id": "5a9a0c81-383d-4a4f-8f05-5a87439548e8",
   "metadata": {},
   "outputs": [],
   "source": [
    "step_size = 40\n",
    "df_bending_down_val = process_csv(df_bending_down.iloc[-cutoff_value:], window_size, step_size)\n",
    "df_falling_bacwards_val = process_csv(df_falling_bacwards.iloc[-cutoff_value:], window_size, step_size)\n",
    "df_falling_forward_val= process_csv(df_falling_forward.iloc[-cutoff_value:], window_size, step_size)\n",
    "df_hand_waving_val = process_csv(df_hand_waving.iloc[-cutoff_value:], window_size, step_size)\n",
    "df_sitting_val = process_csv(df_sitting.iloc[-cutoff_value:], window_size, step_size)\n",
    "df_walking_val = process_csv(df_walking.iloc[-cutoff_value:], window_size, step_size)"
   ]
  },
  {
   "cell_type": "code",
   "execution_count": 8,
   "id": "fca2444a",
   "metadata": {},
   "outputs": [
    {
     "data": {
      "text/plain": [
       "ACTION\n",
       "BENDING_DOWN          46\n",
       "FALLING_BACKWARDS     40\n",
       "FALLING_FORWARD       38\n",
       "HAND_WAVING          119\n",
       "SITTING               48\n",
       "WALKING               69\n",
       "dtype: int64"
      ]
     },
     "execution_count": 8,
     "metadata": {},
     "output_type": "execute_result"
    }
   ],
   "source": [
    "df.groupby('ACTION').size() // 20"
   ]
  },
  {
   "cell_type": "markdown",
   "id": "c59eca95-8192-43d4-80a2-24c0fe249076",
   "metadata": {},
   "source": [
    "#### Combine all action data and balance the action distribution"
   ]
  },
  {
   "cell_type": "code",
   "execution_count": 9,
   "id": "c0bac58e",
   "metadata": {},
   "outputs": [],
   "source": [
    "df_train = pd.concat([\n",
    "                df_bending_down_train[:20],\n",
    "                df_falling_bacwards_train,\n",
    "                df_falling_forward_train,\n",
    "                df_hand_waving_train[:20],\n",
    "                df_sitting_train[:20],\n",
    "                df_walking_train[:20]\n",
    "                ], axis=0)"
   ]
  },
  {
   "cell_type": "markdown",
   "id": "f2964819-a9e7-44f9-a215-76f71f42bfa9",
   "metadata": {},
   "source": [
    "#### Convert Action into 0 and 1\n",
    "\n",
    "bending_down: 0 <br>\n",
    "hand_waving: 0 <br>\n",
    "sitting: 0 <br>\n",
    "walking: 0 <br>\n",
    "\n",
    "falling_backwards: 1 <br>\n",
    "falling_forward: 1 <br>"
   ]
  },
  {
   "cell_type": "code",
   "execution_count": 10,
   "id": "30283c0b-c4f2-42e7-8e5e-0a636329827f",
   "metadata": {},
   "outputs": [],
   "source": [
    "df_train['action'] = df_train['action'].apply(lambda x: 1 if \"FALL\" in x else 0)"
   ]
  },
  {
   "cell_type": "code",
   "execution_count": 11,
   "id": "794c8bf1",
   "metadata": {},
   "outputs": [
    {
     "data": {
      "text/plain": [
       "1    90\n",
       "0    80\n",
       "Name: action, dtype: int64"
      ]
     },
     "execution_count": 11,
     "metadata": {},
     "output_type": "execute_result"
    }
   ],
   "source": [
    "df_train['action'].value_counts()"
   ]
  },
  {
   "cell_type": "code",
   "execution_count": 23,
   "id": "9dc6dcda",
   "metadata": {},
   "outputs": [
    {
     "name": "stdout",
     "output_type": "stream",
     "text": [
      "Training performance\n",
      "Accuracy: 0.7588235294117647, F1: 0.7807486631016044\n",
      "              precision    recall  f1-score   support\n",
      "\n",
      "           0       0.77      0.70      0.73        80\n",
      "           1       0.75      0.81      0.78        90\n",
      "\n",
      "    accuracy                           0.76       170\n",
      "   macro avg       0.76      0.76      0.76       170\n",
      "weighted avg       0.76      0.76      0.76       170\n",
      "\n"
     ]
    }
   ],
   "source": [
    "from sklearn.metrics import f1_score, accuracy_score, classification_report\n",
    "\n",
    "lr = LogisticRegression()\n",
    "print('Training performance')\n",
    "model = lr.fit(df_train.iloc[:, :-1].values, df_train.iloc[:, -1].values)\n",
    "y_true = df_train.iloc[:, -1].values\n",
    "y_pred = model.predict(df_train.iloc[:, :-1].values)\n",
    "print(f'Accuracy: {accuracy_score(y_true, y_pred)}, F1: {f1_score(y_true, y_pred)}')\n",
    "print(classification_report(y_true, y_pred))"
   ]
  },
  {
   "cell_type": "code",
   "execution_count": 25,
   "id": "7cfb229c-b164-498f-8a92-b9c86fede967",
   "metadata": {},
   "outputs": [
    {
     "data": {
      "text/plain": [
       "(21, 5)"
      ]
     },
     "execution_count": 25,
     "metadata": {},
     "output_type": "execute_result"
    }
   ],
   "source": [
    "df_val.shape"
   ]
  },
  {
   "cell_type": "code",
   "execution_count": 14,
   "id": "55b73d99",
   "metadata": {},
   "outputs": [
    {
     "data": {
      "text/plain": [
       "1    14\n",
       "0     7\n",
       "Name: action, dtype: int64"
      ]
     },
     "execution_count": 14,
     "metadata": {},
     "output_type": "execute_result"
    }
   ],
   "source": [
    "df_val = pd.concat([\n",
    "                # df_bending_down_val,\n",
    "                df_falling_bacwards_val,\n",
    "                df_falling_forward_val,\n",
    "                # df_hand_waving_val,\n",
    "                # df_sitting_val,\n",
    "                df_walking_val\n",
    "                ], axis=0)\n",
    "df_val['action'] = df_val['action'].apply(lambda x: 1 if \"FALL\" in x else 0)\n",
    "df_val['action'].value_counts()"
   ]
  },
  {
   "cell_type": "code",
   "execution_count": 15,
   "id": "1cfe49f3",
   "metadata": {},
   "outputs": [
    {
     "name": "stdout",
     "output_type": "stream",
     "text": [
      "Validation performance\n",
      "Accuracy: 0.8571428571428571, F1: 0.88\n",
      "              precision    recall  f1-score   support\n",
      "\n",
      "           0       0.70      1.00      0.82         7\n",
      "           1       1.00      0.79      0.88        14\n",
      "\n",
      "    accuracy                           0.86        21\n",
      "   macro avg       0.85      0.89      0.85        21\n",
      "weighted avg       0.90      0.86      0.86        21\n",
      "\n"
     ]
    }
   ],
   "source": [
    "print('Validation performance')\n",
    "y_true = df_val.iloc[:, -1].values\n",
    "y_pred = model.predict(df_val.iloc[:, :-1].values)\n",
    "print(f'Accuracy: {accuracy_score(y_true, y_pred)}, F1: {f1_score(y_true, y_pred)}')\n",
    "print(classification_report(y_true, y_pred))"
   ]
  },
  {
   "cell_type": "markdown",
   "id": "87774ce2-b4ad-46ad-84fc-692bdb728cfa",
   "metadata": {},
   "source": [
    "#### Extract the features coefficient and bias"
   ]
  },
  {
   "cell_type": "code",
   "execution_count": 16,
   "id": "63318e9d",
   "metadata": {},
   "outputs": [
    {
     "name": "stdout",
     "output_type": "stream",
     "text": [
      "[ 1.97815808e-01 -2.51094097e-02  3.08715255e+00  2.55277462e-03] -5.63985741613418\n"
     ]
    }
   ],
   "source": [
    "coefficients = lr.coef_[0]\n",
    "bias = lr.intercept_.item()\n",
    "\n",
    "print(coefficients, bias)"
   ]
  },
  {
   "attachments": {},
   "cell_type": "markdown",
   "id": "01f2e1a3-b284-45cd-8ca2-a55e66811239",
   "metadata": {},
   "source": [
    "### Check final value for correctness\n",
    "\n",
    "The following image are computed from RPI Pico simulation here: https://wokwi.com/projects/427470808780055553\n",
    "![rpi_simulator](wokwi.png)"
   ]
  },
  {
   "cell_type": "code",
   "execution_count": 17,
   "id": "24527dd7-6d54-4830-b8cb-4f81c66d344d",
   "metadata": {},
   "outputs": [],
   "source": [
    "# simoid function to transform continuous value into bounded value [0,1]\n",
    "def sigmoid(s):\n",
    "    return 1 / 1 + np.exp(-s)"
   ]
  },
  {
   "cell_type": "code",
   "execution_count": 18,
   "id": "547055ad-9ce9-4dea-9251-33ed2f7ede23",
   "metadata": {},
   "outputs": [],
   "source": [
    "feat = np.array([[9.81, 0, 9.81, 3846.82]]).flatten()"
   ]
  },
  {
   "cell_type": "code",
   "execution_count": 19,
   "id": "78c940c9",
   "metadata": {},
   "outputs": [],
   "source": [
    "s = -5.63985741613418\n",
    "for i, w in enumerate(lr.coef_[0]):\n",
    "    s += w * feat[i]"
   ]
  },
  {
   "cell_type": "code",
   "execution_count": 20,
   "id": "76bf3322-abb0-4209-a182-8a5abc5020e3",
   "metadata": {},
   "outputs": [
    {
     "name": "stdout",
     "output_type": "stream",
     "text": [
      "36.405746598076654\n"
     ]
    }
   ],
   "source": [
    "print(s)"
   ]
  },
  {
   "cell_type": "code",
   "execution_count": 21,
   "id": "262db3f4-9cae-4291-b463-d017dcf283a9",
   "metadata": {},
   "outputs": [
    {
     "data": {
      "text/plain": [
       "1.0000000000000002"
      ]
     },
     "execution_count": 21,
     "metadata": {},
     "output_type": "execute_result"
    }
   ],
   "source": [
    "sigmoid(s)"
   ]
  }
 ],
 "metadata": {
  "kernelspec": {
   "display_name": "sfm",
   "language": "python",
   "name": "sfm"
  },
  "language_info": {
   "codemirror_mode": {
    "name": "ipython",
    "version": 3
   },
   "file_extension": ".py",
   "mimetype": "text/x-python",
   "name": "python",
   "nbconvert_exporter": "python",
   "pygments_lexer": "ipython3",
   "version": "3.7.6"
  }
 },
 "nbformat": 4,
 "nbformat_minor": 5
}
